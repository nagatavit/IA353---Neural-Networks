{
 "cells": [
  {
   "cell_type": "markdown",
   "metadata": {},
   "source": [
    "# Exercícios de Fixação de Conceitos – EFC2\n",
    "\n",
    "## Questão 1 - Uso do Keras para resolução do MNIST usando uma MLP"
   ]
  },
  {
   "cell_type": "markdown",
   "metadata": {},
   "source": [
    "### Código base\n",
    "\n",
    "Para realizar o treino da MLP, usaremos como base o seguinte código proposto no roteiro:"
   ]
  },
  {
   "cell_type": "code",
   "execution_count": 1,
   "metadata": {},
   "outputs": [],
   "source": [
    "import tensorflow as tf\n",
    "import os\n",
    "mnist = tf.keras.datasets.mnist\n",
    "(x_train, y_train),(x_test, y_test) = mnist.load_data()\n",
    "x_train, x_test = x_train / 255.0, x_test / 255.0"
   ]
  },
  {
   "cell_type": "code",
   "execution_count": 5,
   "metadata": {},
   "outputs": [
    {
     "name": "stdout",
     "output_type": "stream",
     "text": [
      "Epoch 1/5\n",
      "60000/60000 [==============================] - 16s 264us/sample - loss: 0.2707 - acc: 0.9197\n",
      "Epoch 2/5\n",
      "60000/60000 [==============================] - 14s 239us/sample - loss: 0.1378 - acc: 0.9580\n",
      "Epoch 3/5\n",
      "60000/60000 [==============================] - 12s 202us/sample - loss: 0.1066 - acc: 0.9674\n",
      "Epoch 4/5\n",
      "60000/60000 [==============================] - 12s 204us/sample - loss: 0.0913 - acc: 0.9711\n",
      "Epoch 5/5\n",
      "60000/60000 [==============================] - 13s 213us/sample - loss: 0.0817 - acc: 0.9738\n",
      "10000/10000 [==============================] - 0s 42us/sample - loss: 0.0732 - acc: 0.9769\n",
      "Model saved to disk\n"
     ]
    },
    {
     "data": {
      "text/plain": [
       "'/home/nagata/Documents/1_Unicamp/9_Semestre/IA353/EFC2'"
      ]
     },
     "execution_count": 5,
     "metadata": {},
     "output_type": "execute_result"
    }
   ],
   "source": [
    "model = tf.keras.models.Sequential([\n",
    "    tf.keras.layers.Flatten(),\n",
    "    tf.keras.layers.Dense(512, activation=tf.nn.relu),\n",
    "    tf.keras.layers.Dropout(0.5),\n",
    "    tf.keras.layers.Dense(10, activation=tf.nn.softmax)\n",
    "])\n",
    "model.compile(optimizer='adam',\n",
    "              loss='sparse_categorical_crossentropy',\n",
    "              metrics=['accuracy'])\n",
    "\n",
    "model.fit(x_train, y_train, epochs=5)\n",
    "model.evaluate(x_test, y_test)\n",
    "model_json = model.to_json()\n",
    "json_file = open(\"model_MLP.json\", \"w\")\n",
    "json_file.write(model_json)\n",
    "json_file.close()\n",
    "model.save_weights(\"model_MLP.h5\")\n",
    "print(\"Model saved to disk\")\n",
    "os.getcwd()"
   ]
  },
  {
   "cell_type": "markdown",
   "metadata": {},
   "source": [
    "Como podemos ver do resultado acima, a MLP proposta no roteiro nos dá uma taxa de acerto em torno de 97.8% (no ultimo teste obtivemos: 97.69%). Buscamos neste exercício, superar esta marca."
   ]
  },
  {
   "cell_type": "markdown",
   "metadata": {},
   "source": [
    "### Documentação Keras\n",
    "\n",
    "Inspirado na documentação do Keras ([fonte](https://keras.io/examples/mnist_mlp/)), onde é descrito uma rede com a seguinte configuração: \n",
    "\n",
    "[512, 512, 10], \n",
    "\n",
    "20% de dropout e 20 epocas,\n",
    "\n",
    "está descrito uma rede com 98,4% de  acerto:"
   ]
  },
  {
   "cell_type": "code",
   "execution_count": 4,
   "metadata": {
    "scrolled": true
   },
   "outputs": [
    {
     "name": "stdout",
     "output_type": "stream",
     "text": [
      "Epoch 1/20\n",
      "60000/60000 [==============================] - 26s 441us/sample - loss: 0.2171 - acc: 0.9339\n",
      "Epoch 2/20\n",
      "60000/60000 [==============================] - 25s 409us/sample - loss: 0.1077 - acc: 0.9674\n",
      "Epoch 3/20\n",
      "60000/60000 [==============================] - 23s 391us/sample - loss: 0.0803 - acc: 0.9753\n",
      "Epoch 4/20\n",
      "60000/60000 [==============================] - 24s 400us/sample - loss: 0.0653 - acc: 0.9796\n",
      "Epoch 5/20\n",
      "60000/60000 [==============================] - 24s 396us/sample - loss: 0.0573 - acc: 0.9824\n",
      "Epoch 6/20\n",
      "60000/60000 [==============================] - 24s 403us/sample - loss: 0.0517 - acc: 0.9839\n",
      "Epoch 7/20\n",
      "60000/60000 [==============================] - 24s 398us/sample - loss: 0.0457 - acc: 0.9855\n",
      "Epoch 8/20\n",
      "60000/60000 [==============================] - 24s 405us/sample - loss: 0.0430 - acc: 0.9867\n",
      "Epoch 9/20\n",
      "60000/60000 [==============================] - 24s 405us/sample - loss: 0.0393 - acc: 0.9880\n",
      "Epoch 10/20\n",
      "60000/60000 [==============================] - 23s 380us/sample - loss: 0.0353 - acc: 0.9894\n",
      "Epoch 11/20\n",
      "60000/60000 [==============================] - 23s 389us/sample - loss: 0.0389 - acc: 0.9885\n",
      "Epoch 12/20\n",
      "60000/60000 [==============================] - 24s 402us/sample - loss: 0.0338 - acc: 0.9899\n",
      "Epoch 13/20\n",
      "60000/60000 [==============================] - 25s 410us/sample - loss: 0.0328 - acc: 0.9901\n",
      "Epoch 14/20\n",
      "60000/60000 [==============================] - 25s 424us/sample - loss: 0.0329 - acc: 0.9903\n",
      "Epoch 15/20\n",
      "60000/60000 [==============================] - 24s 404us/sample - loss: 0.0326 - acc: 0.9905\n",
      "Epoch 16/20\n",
      "60000/60000 [==============================] - 24s 406us/sample - loss: 0.0279 - acc: 0.9920\n",
      "Epoch 17/20\n",
      "60000/60000 [==============================] - 24s 403us/sample - loss: 0.0314 - acc: 0.9916\n",
      "Epoch 18/20\n",
      "60000/60000 [==============================] - 24s 405us/sample - loss: 0.0311 - acc: 0.9918\n",
      "Epoch 19/20\n",
      "60000/60000 [==============================] - 25s 416us/sample - loss: 0.0297 - acc: 0.9914\n",
      "Epoch 20/20\n",
      "60000/60000 [==============================] - 25s 416us/sample - loss: 0.0249 - acc: 0.9932\n",
      "10000/10000 [==============================] - 1s 63us/sample - loss: 0.0917 - acc: 0.9831\n",
      "Model saved to disk\n"
     ]
    },
    {
     "data": {
      "text/plain": [
       "'/home/nagata/Documents/1_Unicamp/9_Semestre/IA353/EFC2'"
      ]
     },
     "execution_count": 4,
     "metadata": {},
     "output_type": "execute_result"
    }
   ],
   "source": [
    "model_doc = tf.keras.models.Sequential([\n",
    "    tf.keras.layers.Flatten(),\n",
    "    tf.keras.layers.Dense(512, activation=tf.nn.relu),\n",
    "    tf.keras.layers.Dropout(0.2),\n",
    "    tf.keras.layers.Dense(512, activation=tf.nn.relu),\n",
    "    tf.keras.layers.Dropout(0.2),\n",
    "    tf.keras.layers.Dense(10, activation=tf.nn.softmax)\n",
    "])\n",
    "model_doc.compile(optimizer='adam',\n",
    "              loss='sparse_categorical_crossentropy',\n",
    "              metrics=['accuracy'])\n",
    "\n",
    "model_doc.fit(x_train, y_train, epochs=20)\n",
    "model_doc.evaluate(x_test, y_test)\n",
    "model_doc_json = model_doc.to_json()\n",
    "json_file = open(\"model_doc_MLP.json\", \"w\")\n",
    "json_file.write(model_doc_json)\n",
    "json_file.close()\n",
    "model_doc.save_weights(\"model_doc_MLP.h5\")\n",
    "print(\"Model saved to disk\")\n",
    "os.getcwd()"
   ]
  },
  {
   "cell_type": "markdown",
   "metadata": {},
   "source": [
    "Como pudermos observar acima, tivemos um ganho na taxa de acerto onde, desta vez, obtivemos uma accuracia de 98.31%, muito próximo do descrito na documentação. Entretanto, ainda há bastante espaço para ajuste dos hiperparâmetros."
   ]
  },
  {
   "cell_type": "markdown",
   "metadata": {},
   "source": [
    "Por tetativa e erro, buscaremos alterar os parâmetros para melhorar o desempenho. Baseado em [LeCun](http://yann.lecun.com/exdb/mnist/), vemos que as redes não convolucionais de melhor desempenho, costumam utilizar de 2 a 3 camadas intermediárias. Vamos manter 2 camadas e tentar variar o número de neurônios por camada, a função de ativação na saída e outros parâmetros como dropout e número de épocas:"
   ]
  },
  {
   "cell_type": "code",
   "execution_count": 10,
   "metadata": {
    "scrolled": true
   },
   "outputs": [
    {
     "name": "stdout",
     "output_type": "stream",
     "text": [
      "Epoch 1/10\n",
      "60000/60000 [==============================] - 40s 670us/sample - loss: 0.2120 - acc: 0.9350\n",
      "Epoch 2/10\n",
      "60000/60000 [==============================] - 37s 622us/sample - loss: 0.1107 - acc: 0.9657\n",
      "Epoch 3/10\n",
      "60000/60000 [==============================] - 45s 756us/sample - loss: 0.0892 - acc: 0.9721\n",
      "Epoch 4/10\n",
      "60000/60000 [==============================] - 46s 768us/sample - loss: 0.0741 - acc: 0.9770\n",
      "Epoch 5/10\n",
      "60000/60000 [==============================] - 43s 710us/sample - loss: 0.0655 - acc: 0.9798\n",
      "Epoch 6/10\n",
      "60000/60000 [==============================] - 38s 628us/sample - loss: 0.0602 - acc: 0.9817\n",
      "Epoch 7/10\n",
      "60000/60000 [==============================] - 38s 633us/sample - loss: 0.0543 - acc: 0.9834\n",
      "Epoch 8/10\n",
      "60000/60000 [==============================] - 39s 645us/sample - loss: 0.0493 - acc: 0.9853\n",
      "Epoch 9/10\n",
      "60000/60000 [==============================] - 38s 627us/sample - loss: 0.0485 - acc: 0.9855\n",
      "Epoch 10/10\n",
      "60000/60000 [==============================] - 38s 640us/sample - loss: 0.0469 - acc: 0.9866\n",
      "10000/10000 [==============================] - 1s 79us/sample - loss: 0.0758 - acc: 0.9814\n",
      "Model saved to disk\n"
     ]
    },
    {
     "data": {
      "text/plain": [
       "'/home/nagata/Documents/1_Unicamp/9_Semestre/IA353/EFC2'"
      ]
     },
     "execution_count": 10,
     "metadata": {},
     "output_type": "execute_result"
    }
   ],
   "source": [
    "model_3 = tf.keras.models.Sequential([\n",
    "    tf.keras.layers.Flatten(),\n",
    "    tf.keras.layers.Dense(1024, activation=tf.nn.relu),\n",
    "    tf.keras.layers.Dropout(0.3),\n",
    "    tf.keras.layers.Dense(512, activation=tf.nn.relu),\n",
    "    tf.keras.layers.Dropout(0.2),\n",
    "    tf.keras.layers.Dense(10, activation=tf.nn.softmax)\n",
    "])\n",
    "model_3.compile(optimizer='adam',\n",
    "              loss='sparse_categorical_crossentropy',\n",
    "              metrics=['accuracy'])\n",
    "\n",
    "model_3.fit(x_train, y_train, epochs=10)\n",
    "model_3.evaluate(x_test, y_test)\n",
    "model_3_json = model_3.to_json()\n",
    "json_file = open(\"model_3_MLP.json\", \"w\")\n",
    "json_file.write(model_3_json)\n",
    "json_file.close()\n",
    "model_3.save_weights(\"model_3_MLP.h5\")\n",
    "print(\"Model saved to disk\")\n",
    "os.getcwd()"
   ]
  },
  {
   "cell_type": "markdown",
   "metadata": {},
   "source": [
    "A seguir está alguns dos resultados obtidos por tentativa e erro variando-se os parâmetros:\n",
    "\n",
    "|# de Neurônios camada 1|Droput 1|# de Neurônios camada 2|Dropout 2|Épocas|Ativação na saída|Acurácia (%)|\n",
    "|---|---|---|---|---|---|---|\n",
    "|1024|0.5|512|0.2|15|softmax|98.23|\n",
    "|1024|0.3|512|0.2|10|softmax|98.14|\n",
    "|1024|0.5|512|0.2|10|softmax|98.09|\n",
    "|1024|0.5|256|0.2|10|softplus|98.09|\n",
    "|512|0.3|256|0.3|5|softplus|98.00|\n",
    "|1024|0.5|512|0.5|10|softplus|97.97|\n",
    "\n",
    "Dentre todos os modelos testados, o melhor desempenho obtido até o momento foi o modelo dado pela documentação do keras (98.31%), formado por 2 camadas intermediárias e 1 de saída [512 512 10], 20% de dropout e 20 épocas. Esse modelo passa a rede base fornecida pelo roteiro em aproximadamente 0.60%.\n",
    "\n",
    "Após várias tentativas, fica claro que a escolha de parâmetros para um ganho significativo no desempenho na faixa dos 97-98% não é tão trivial de se encontrar. Há muitos hiperparâmetros a serem definidos, o que dificulta a busca pelo melhor modelo."
   ]
  },
  {
   "cell_type": "markdown",
   "metadata": {},
   "source": [
    "## Questão 2 - Uso do Keras para resolução do MNIST usando uma ConvNet\n",
    "\n",
    "Partindo agora para uma rede mais sofisticada, treinaremos uma rede convolucional. Partindo como base o seguinte código:"
   ]
  },
  {
   "cell_type": "markdown",
   "metadata": {},
   "source": [
    "### Importação das bibliotecas e normalização dos dados"
   ]
  },
  {
   "cell_type": "code",
   "execution_count": 5,
   "metadata": {},
   "outputs": [
    {
     "name": "stderr",
     "output_type": "stream",
     "text": [
      "Using TensorFlow backend.\n"
     ]
    }
   ],
   "source": [
    "import tensorflow as tf\n",
    "import os\n",
    "from keras.utils.np_utils import to_categorical # convert to one-hot-encoding\n",
    "from keras.models import Sequential\n",
    "from keras.layers import Dense, Dropout, Flatten, Conv2D, MaxPool2D\n",
    "from keras.optimizers import RMSprop\n",
    "from keras.preprocessing.image import ImageDataGenerator\n",
    "from keras.callbacks import ReduceLROnPlateau\n",
    "\n",
    "mnist = tf.keras.datasets.mnist\n",
    "\n",
    "(x_train, y_train),(x_test, y_test) = mnist.load_data()\n",
    "\n",
    "# reshape to be [samples][width][height][pixels]\n",
    "x_train = x_train.reshape(x_train.shape[0], 28, 28, 1)\n",
    "x_test = x_test.reshape(x_test.shape[0], 28, 28, 1)\n",
    "\n",
    "x_train, x_test = x_train / 255.0, x_test / 255.0"
   ]
  },
  {
   "cell_type": "markdown",
   "metadata": {},
   "source": [
    "### Código base:\n",
    "\n",
    "Utilizando como base para comparação a configuração proposta no roteiro teste exercício, temos a seguinte rede:"
   ]
  },
  {
   "cell_type": "code",
   "execution_count": 12,
   "metadata": {
    "scrolled": true
   },
   "outputs": [
    {
     "name": "stdout",
     "output_type": "stream",
     "text": [
      "Epoch 1/5\n",
      "60000/60000 [==============================] - 72s 1ms/sample - loss: 0.1903 - acc: 0.9421\n",
      "Epoch 2/5\n",
      "60000/60000 [==============================] - 71s 1ms/sample - loss: 0.0803 - acc: 0.9762\n",
      "Epoch 3/5\n",
      "60000/60000 [==============================] - 71s 1ms/sample - loss: 0.0630 - acc: 0.9812\n",
      "Epoch 4/5\n",
      "60000/60000 [==============================] - 71s 1ms/sample - loss: 0.0492 - acc: 0.9848\n",
      "Epoch 5/5\n",
      "60000/60000 [==============================] - 72s 1ms/sample - loss: 0.0418 - acc: 0.9874\n",
      "10000/10000 [==============================] - 2s 201us/sample - loss: 0.0311 - acc: 0.9899\n",
      "Model saved to disk\n"
     ]
    },
    {
     "data": {
      "text/plain": [
       "'/home/nagata/Documents/1_Unicamp/9_Semestre/IA353/EFC2'"
      ]
     },
     "execution_count": 12,
     "metadata": {},
     "output_type": "execute_result"
    }
   ],
   "source": [
    "model = tf.keras.models.Sequential()\n",
    "model.add(tf.keras.layers.Conv2D(32, kernel_size=(3, 3),\n",
    "                                 activation='relu',\n",
    "                                 input_shape=(28, 28, 1)))\n",
    "model.add(tf.keras.layers.Conv2D(64, (3, 3), activation='relu'))\n",
    "model.add(tf.keras.layers.MaxPooling2D(pool_size=(2, 2)))\n",
    "model.add(tf.keras.layers.Dropout(0.25))\n",
    "model.add(tf.keras.layers.Flatten())\n",
    "model.add(tf.keras.layers.Dense(128, activation='relu'))\n",
    "model.add(tf.keras.layers.Dropout(0.5))\n",
    "model.add(tf.keras.layers.Dense(10, activation='softmax'))\n",
    "\n",
    "model.compile(optimizer='adam',\n",
    "              loss='sparse_categorical_crossentropy',\n",
    "              metrics=['accuracy'])\n",
    "\n",
    "\n",
    "model.fit(x_train, y_train, epochs=5)\n",
    "model.evaluate(x_test, y_test)\n",
    "\n",
    "model_json = model.to_json()\n",
    "json_file = open(\"model_CNN.json\", \"w\")\n",
    "json_file.write(model_json)\n",
    "json_file.close()\n",
    "model.save_weights(\"model_CNN.h5\")\n",
    "print(\"Model saved to disk\")\n",
    "os.getcwd()"
   ]
  },
  {
   "cell_type": "markdown",
   "metadata": {},
   "source": [
    "### CNN utilizando o kernel de Ghouzam\n",
    "\n",
    "Temos que o desempenho médio desta rede é de 90.1% de acurácia com esta configuração de rede.\n",
    "\n",
    "Para superar essa marca de 99.10% (98.99% no ultimo teste), iremos implementar uma rede baseada no kernel de Ghouzam ([top 8%](https://www.kaggle.com/yassineghouzam/introduction-to-cnn-keras-0-997-top-6)).\n",
    "\n",
    "Esta rede consiste na seguinte configuração:\n",
    "\n",
    "Conv2D (32 kernels de (5,5)) <br>\n",
    "Conv2D (32 kernels de (5,5)) <br>\n",
    "MaxPooling de (2,2) <br>\n",
    "Dropout de 25% <br>\n",
    "\n",
    "Conv2D (64 kernels de (3,3)) <br>\n",
    "Conv2D (64 kernels de (3,3)) <br>\n",
    "MaxPooling de (2,2) com stride de (2,2) <br>\n",
    "Dropout de 25% <br>\n",
    "\n",
    "Camada Densa com 256 neurônios <br>\n",
    "Dropout de 50% <br>\n",
    "\n",
    "Camada Densa de saída (10 neurônios) <br>\n",
    "\n",
    "Rodando esta configuração, temos o seguinte resultado:"
   ]
  },
  {
   "cell_type": "code",
   "execution_count": 2,
   "metadata": {},
   "outputs": [
    {
     "name": "stdout",
     "output_type": "stream",
     "text": [
      "WARNING:tensorflow:From /home/nagata/anaconda3/envs/tensor_flow/lib/python3.7/site-packages/tensorflow/python/ops/resource_variable_ops.py:435: colocate_with (from tensorflow.python.framework.ops) is deprecated and will be removed in a future version.\n",
      "Instructions for updating:\n",
      "Colocations handled automatically by placer.\n",
      "WARNING:tensorflow:From /home/nagata/anaconda3/envs/tensor_flow/lib/python3.7/site-packages/tensorflow/python/keras/layers/core.py:143: calling dropout (from tensorflow.python.ops.nn_ops) with keep_prob is deprecated and will be removed in a future version.\n",
      "Instructions for updating:\n",
      "Please use `rate` instead of `keep_prob`. Rate should be set to `rate = 1 - keep_prob`.\n",
      "Epoch 1/5\n",
      "60000/60000 [==============================] - 96s 2ms/sample - loss: 0.1660 - acc: 0.9482\n",
      "Epoch 2/5\n",
      "60000/60000 [==============================] - 99s 2ms/sample - loss: 0.0652 - acc: 0.9805\n",
      "Epoch 3/5\n",
      "60000/60000 [==============================] - 110s 2ms/sample - loss: 0.0478 - acc: 0.9855\n",
      "Epoch 4/5\n",
      "60000/60000 [==============================] - 106s 2ms/sample - loss: 0.0416 - acc: 0.9880\n",
      "Epoch 5/5\n",
      "60000/60000 [==============================] - 104s 2ms/sample - loss: 0.0376 - acc: 0.9893\n",
      "10000/10000 [==============================] - 5s 475us/sample - loss: 0.0213 - acc: 0.9934\n",
      "Model saved to disk\n"
     ]
    },
    {
     "data": {
      "text/plain": [
       "'/home/nagata/Documents/1_Unicamp/9_Semestre/IA353/EFC2'"
      ]
     },
     "execution_count": 2,
     "metadata": {},
     "output_type": "execute_result"
    }
   ],
   "source": [
    "model = tf.keras.models.Sequential()\n",
    "\n",
    "model.add(tf.keras.layers.Conv2D(32, kernel_size=(5, 5),padding = 'Same',\n",
    "                                 activation='relu',\n",
    "                                 input_shape=(28, 28, 1)))\n",
    "model.add(tf.keras.layers.Conv2D(32, kernel_size=(5, 5),padding = 'Same',\n",
    "                                 activation='relu'))\n",
    "model.add(tf.keras.layers.MaxPooling2D(pool_size=(2, 2)))\n",
    "model.add(tf.keras.layers.Dropout(0.25))\n",
    "model.add(tf.keras.layers.Conv2D(64, kernel_size=(3, 3),padding = 'Same',\n",
    "                                 activation='relu'))\n",
    "model.add(tf.keras.layers.Conv2D(64, kernel_size=(3, 3),padding = 'Same',\n",
    "                                 activation='relu'))\n",
    "model.add(tf.keras.layers.MaxPooling2D(pool_size=(2, 2), strides=(2,2)))\n",
    "model.add(tf.keras.layers.Dropout(0.25))\n",
    "model.add(tf.keras.layers.Flatten())\n",
    "model.add(tf.keras.layers.Dense(256, activation='relu'))\n",
    "model.add(tf.keras.layers.Dropout(0.5))\n",
    "model.add(tf.keras.layers.Dense(10, activation='softmax'))\n",
    "\n",
    "model.compile(optimizer='adam',\n",
    "              loss='sparse_categorical_crossentropy',\n",
    "              metrics=['accuracy'])\n",
    "\n",
    "model.fit(x_train, y_train, epochs=5)\n",
    "model.evaluate(x_test, y_test)\n",
    "\n",
    "model_json = model.to_json()\n",
    "json_file = open(\"model_CNN.json\", \"w\")\n",
    "json_file.write(model_json)\n",
    "json_file.close()\n",
    "model.save_weights(\"model_CNN.h5\")\n",
    "print(\"Model saved to disk\")\n",
    "os.getcwd()"
   ]
  },
  {
   "cell_type": "markdown",
   "metadata": {},
   "source": [
    "Como podemos observar acima, a rede já possui um ganho de resultado quando comparado com a rede proposta no enunciado. Contudo, ainda é possível melhorar o desempenho ao reduzir o overfiting.\n",
    "\n",
    "Para tal (ainda baseado em Ghouzam), podemos aumentar o dataset com o uso da função ImageDataGenerator, assim como separar as amostras de treino e validação para verificar o modelo junto às novas amostras:"
   ]
  },
  {
   "cell_type": "code",
   "execution_count": 12,
   "metadata": {},
   "outputs": [],
   "source": [
    "from sklearn.model_selection import train_test_split\n",
    "\n",
    "epochs = 5\n",
    "batch_size = 86\n",
    "\n",
    "datagen = ImageDataGenerator(\n",
    "        featurewise_center=False,  # set input mean to 0 over the dataset\n",
    "        samplewise_center=False,  # set each sample mean to 0\n",
    "        featurewise_std_normalization=False,  # divide inputs by std of the dataset\n",
    "        samplewise_std_normalization=False,  # divide each input by its std\n",
    "        zca_whitening=False,  # apply ZCA whitening\n",
    "        rotation_range=10,  # randomly rotate images in the range (degrees, 0 to 180)\n",
    "        zoom_range = 0.1, # Randomly zoom image \n",
    "        width_shift_range=0.1,  # randomly shift images horizontally (fraction of total width)\n",
    "        height_shift_range=0.1,  # randomly shift images vertically (fraction of total height)\n",
    "        horizontal_flip=False,  # randomly flip images\n",
    "        vertical_flip=False)  # randomly flip images\n",
    "\n",
    "random_seed = 178499\n",
    "\n",
    "# Split the train and the validation set for the fitting\n",
    "x_train, x_val, y_train, y_val = train_test_split(x_train, y_train, test_size = 0.1, random_state=random_seed)\n",
    "\n",
    "\n",
    "datagen.fit(x_train)"
   ]
  },
  {
   "cell_type": "code",
   "execution_count": 14,
   "metadata": {},
   "outputs": [
    {
     "name": "stdout",
     "output_type": "stream",
     "text": [
      "Epoch 1/5\n",
      "6000/6000 [==============================] - 2s 412us/sample - loss: 0.0089 - acc: 0.9967\n",
      " - 79s - loss: 0.0505 - acc: 0.9855 - val_loss: 0.0089 - val_acc: 0.9967\n",
      "Epoch 2/5\n",
      "6000/6000 [==============================] - 3s 442us/sample - loss: 0.0144 - acc: 0.9955\n",
      " - 89s - loss: 0.0487 - acc: 0.9852 - val_loss: 0.0144 - val_acc: 0.9955\n",
      "Epoch 3/5\n",
      "6000/6000 [==============================] - 3s 428us/sample - loss: 0.0121 - acc: 0.9955\n",
      " - 97s - loss: 0.0435 - acc: 0.9871 - val_loss: 0.0120 - val_acc: 0.9955\n",
      "Epoch 4/5\n",
      "6000/6000 [==============================] - 3s 444us/sample - loss: 0.0107 - acc: 0.9960\n",
      " - 94s - loss: 0.0406 - acc: 0.9875 - val_loss: 0.0107 - val_acc: 0.9960\n",
      "Epoch 5/5\n",
      "6000/6000 [==============================] - 2s 396us/sample - loss: 0.0121 - acc: 0.9962\n",
      " - 93s - loss: 0.0399 - acc: 0.9876 - val_loss: 0.0120 - val_acc: 0.9962\n",
      "10000/10000 [==============================] - 5s 550us/sample - loss: 0.0137 - acc: 0.9959\n"
     ]
    },
    {
     "data": {
      "text/plain": [
       "[0.013710435156526727, 0.9959]"
      ]
     },
     "execution_count": 14,
     "metadata": {},
     "output_type": "execute_result"
    }
   ],
   "source": [
    "model.fit_generator(datagen.flow(x_train,y_train, batch_size=batch_size),\n",
    "                              epochs = epochs, validation_data = (x_val,y_val),\n",
    "                              verbose = 2, steps_per_epoch=x_train.shape[0] // batch_size\n",
    "                              )\n",
    "\n",
    "model.evaluate(x_test, y_test)"
   ]
  },
  {
   "cell_type": "markdown",
   "metadata": {},
   "source": [
    "Após o treinamento, junto ao _dataset augumentation_, obtivemos uma rede com 99.59% de acurácia nos dados de teste.\n",
    "\n",
    "Este resultado, quando comparado a redes como a MLP do item 1 deste exercício e a ELM do item 2 do EFC1, possui um ganho consideravelmente maior:\n",
    "\n",
    "|#|MLP (EFC2)|ELM (EFC1)|CNN - Sem dataset augumentation (EFC2) | CNN - Com dataset augumentation (EFC2) |\n",
    "|---|---|---|---|---|\n",
    "|Eficiência|98.31%|97,03%|99.34%|99.59%|\n",
    "\n",
    "O motivo do desempenho da MLP ser menor se deve a dificuldade da escolha dos hiperparâmetros. No item 1 deste exercício, foram realizadas várias tentativas para escolha dos hiperparâmetros, como quantidade de camadas, número de neurônios por camada, etc. Como não há uma certeza sobre o impacto de cada hiperparâmetro, aumentar o desempenho da rede se torna bastante oneroso por tentativa e erro.\n",
    "\n",
    "Já no caso da ELM, seu principal ponto de ganho de desempenho é a realização do mapeamento não linear de forma aleatória, podendo facilitar a regressão na camada de saída. Esse mapeamento, apesar de trazer ganhos, não é perfeito. Como a escolha de pesos desta camada é feita aleatóriamente, é bastante provável a existência de pesos redundantes ou até mesmo pesos que interfiram negativamente na regressão de saída da rede. Devido a isso, o desempenho da rede é limitado pela própria natureza do mapeamento aleatório feita.\n",
    "\n",
    "Por fim, a rede convolucional possui um alto desempenho em relação às outras duas pela sua características de extração de _features_. Isto é, a presença de camadas convolucionais nesta rede, auxilia no desempenho ao evidenciarem características presentes nas imagem. Com isso, o mapeamento denso nas camadas de saída, consegue trabalhar com elementos característicos das imagens, as quais, foram aprendidas durante o treinamento. Este ultimo ponto, contudo, também é um dos pontos fracos desta configuração de rede. Como durante o treino, as redes aprendem traços especificos dos dados (_features_), se vê a necessídade de um número consideravel de dados de treino para se evitar _overfitting_. <br>\n",
    "Quando expostos a um _dataset augumentation_, a rede consegue aumentar sua acurácia inicial (99.34%) para uma acurácia ainda maior (99.59%), uma vez que a rede tenta não se limitar a elementos específicos apenas dos dados de treino originais. "
   ]
  },
  {
   "cell_type": "markdown",
   "metadata": {},
   "source": [
    "## Questão 3 - NY Stock Price Prediction Notebook\n",
    "\n",
    "Por fim, iremos rodar um notebook já presente na literatura sobre o mercado de ações utilizando redes recorrentes (GRU):"
   ]
  },
  {
   "cell_type": "markdown",
   "metadata": {},
   "source": [
    "# 1. Libraries and settings <a class=\"anchor\" id=\"1-bullet\"></a> "
   ]
  },
  {
   "cell_type": "code",
   "execution_count": 1,
   "metadata": {},
   "outputs": [
    {
     "name": "stdout",
     "output_type": "stream",
     "text": [
      "/home/nagata/Documents/1_Unicamp/9_Semestre/IA353: ['teste.txt', 'Slides', 'EFC2', 'provas.py', '.ipynb_checkpoints']\n",
      "/home/nagata/Documents/1_Unicamp/9_Semestre/IA353/EFC2: ['model_CNN.h5', 'prices-split-adjusted.csv', 'RA178499_Vitor_Nagata_EFC2.ipynb', 'model_CNN.json', 'EFC2_IA353_1s2019.pdf', 'RA178499_Vitor_Nagata_EFC2_ConvNet.ipynb', 'model_doc_MLP.h5', 'model_3_MLP.h5', 'model_MLP.json', '.ipynb_checkpoints', 'model_doc_MLP.json', 'model_MLP.h5', 'model_3_MLP.json', 'ny-stock-price-prediction-rnn-lstm-gru.ipynb']\n"
     ]
    }
   ],
   "source": [
    "import numpy as np\n",
    "import pandas as pd\n",
    "import math\n",
    "import sklearn\n",
    "import sklearn.preprocessing\n",
    "import datetime\n",
    "import os\n",
    "import matplotlib.pyplot as plt\n",
    "import tensorflow as tf\n",
    "\n",
    "# split data in 80%/10%/10% train/validation/test sets\n",
    "valid_set_size_percentage = 10 \n",
    "test_set_size_percentage = 10 \n",
    "\n",
    "#display parent directory and working directory\n",
    "print(os.path.dirname(os.getcwd())+':', os.listdir(os.path.dirname(os.getcwd())));\n",
    "print(os.getcwd()+':', os.listdir(os.getcwd()));\n"
   ]
  },
  {
   "cell_type": "markdown",
   "metadata": {},
   "source": [
    "# 2. Analyze data <a class=\"anchor\" id=\"2-bullet\"></a> \n",
    "- load stock prices from prices-split-adjusted.csv\n",
    "- analyze data"
   ]
  },
  {
   "cell_type": "code",
   "execution_count": 2,
   "metadata": {},
   "outputs": [
    {
     "name": "stdout",
     "output_type": "stream",
     "text": [
      "<class 'pandas.core.frame.DataFrame'>\n",
      "Index: 851264 entries, 2016-01-05 to 2016-12-30\n",
      "Data columns (total 6 columns):\n",
      "symbol    851264 non-null object\n",
      "open      851264 non-null float64\n",
      "close     851264 non-null float64\n",
      "low       851264 non-null float64\n",
      "high      851264 non-null float64\n",
      "volume    851264 non-null float64\n",
      "dtypes: float64(5), object(1)\n",
      "memory usage: 45.5+ MB\n",
      "\n",
      "number of different stocks:  501\n",
      "['USB', 'MKC', 'URI', 'BBT', 'CSX', 'AMGN', 'SWKS', 'HAL', 'LYB', 'UNM']\n"
     ]
    }
   ],
   "source": [
    "# import all stock prices \n",
    "df = pd.read_csv(\"prices-split-adjusted.csv\", index_col = 0)\n",
    "df.info()\n",
    "df.head()\n",
    "\n",
    "# number of different stocks\n",
    "print('\\nnumber of different stocks: ', len(list(set(df.symbol))))\n",
    "print(list(set(df.symbol))[:10])"
   ]
  },
  {
   "cell_type": "code",
   "execution_count": 3,
   "metadata": {},
   "outputs": [
    {
     "data": {
      "text/html": [
       "<div>\n",
       "<style scoped>\n",
       "    .dataframe tbody tr th:only-of-type {\n",
       "        vertical-align: middle;\n",
       "    }\n",
       "\n",
       "    .dataframe tbody tr th {\n",
       "        vertical-align: top;\n",
       "    }\n",
       "\n",
       "    .dataframe thead th {\n",
       "        text-align: right;\n",
       "    }\n",
       "</style>\n",
       "<table border=\"1\" class=\"dataframe\">\n",
       "  <thead>\n",
       "    <tr style=\"text-align: right;\">\n",
       "      <th></th>\n",
       "      <th>symbol</th>\n",
       "      <th>open</th>\n",
       "      <th>close</th>\n",
       "      <th>low</th>\n",
       "      <th>high</th>\n",
       "      <th>volume</th>\n",
       "    </tr>\n",
       "    <tr>\n",
       "      <th>date</th>\n",
       "      <th></th>\n",
       "      <th></th>\n",
       "      <th></th>\n",
       "      <th></th>\n",
       "      <th></th>\n",
       "      <th></th>\n",
       "    </tr>\n",
       "  </thead>\n",
       "  <tbody>\n",
       "    <tr>\n",
       "      <th>2016-12-30</th>\n",
       "      <td>ZBH</td>\n",
       "      <td>103.309998</td>\n",
       "      <td>103.199997</td>\n",
       "      <td>102.849998</td>\n",
       "      <td>103.930000</td>\n",
       "      <td>973800.0</td>\n",
       "    </tr>\n",
       "    <tr>\n",
       "      <th>2016-12-30</th>\n",
       "      <td>ZION</td>\n",
       "      <td>43.070000</td>\n",
       "      <td>43.040001</td>\n",
       "      <td>42.689999</td>\n",
       "      <td>43.310001</td>\n",
       "      <td>1938100.0</td>\n",
       "    </tr>\n",
       "    <tr>\n",
       "      <th>2016-12-30</th>\n",
       "      <td>ZTS</td>\n",
       "      <td>53.639999</td>\n",
       "      <td>53.529999</td>\n",
       "      <td>53.270000</td>\n",
       "      <td>53.740002</td>\n",
       "      <td>1701200.0</td>\n",
       "    </tr>\n",
       "    <tr>\n",
       "      <th>2016-12-30</th>\n",
       "      <td>AIV</td>\n",
       "      <td>44.730000</td>\n",
       "      <td>45.450001</td>\n",
       "      <td>44.410000</td>\n",
       "      <td>45.590000</td>\n",
       "      <td>1380900.0</td>\n",
       "    </tr>\n",
       "    <tr>\n",
       "      <th>2016-12-30</th>\n",
       "      <td>FTV</td>\n",
       "      <td>54.200001</td>\n",
       "      <td>53.630001</td>\n",
       "      <td>53.389999</td>\n",
       "      <td>54.480000</td>\n",
       "      <td>705100.0</td>\n",
       "    </tr>\n",
       "  </tbody>\n",
       "</table>\n",
       "</div>"
      ],
      "text/plain": [
       "           symbol        open       close         low        high     volume\n",
       "date                                                                        \n",
       "2016-12-30    ZBH  103.309998  103.199997  102.849998  103.930000   973800.0\n",
       "2016-12-30   ZION   43.070000   43.040001   42.689999   43.310001  1938100.0\n",
       "2016-12-30    ZTS   53.639999   53.529999   53.270000   53.740002  1701200.0\n",
       "2016-12-30    AIV   44.730000   45.450001   44.410000   45.590000  1380900.0\n",
       "2016-12-30    FTV   54.200001   53.630001   53.389999   54.480000   705100.0"
      ]
     },
     "execution_count": 3,
     "metadata": {},
     "output_type": "execute_result"
    }
   ],
   "source": [
    "df.tail()"
   ]
  },
  {
   "cell_type": "code",
   "execution_count": 4,
   "metadata": {},
   "outputs": [
    {
     "data": {
      "text/html": [
       "<div>\n",
       "<style scoped>\n",
       "    .dataframe tbody tr th:only-of-type {\n",
       "        vertical-align: middle;\n",
       "    }\n",
       "\n",
       "    .dataframe tbody tr th {\n",
       "        vertical-align: top;\n",
       "    }\n",
       "\n",
       "    .dataframe thead th {\n",
       "        text-align: right;\n",
       "    }\n",
       "</style>\n",
       "<table border=\"1\" class=\"dataframe\">\n",
       "  <thead>\n",
       "    <tr style=\"text-align: right;\">\n",
       "      <th></th>\n",
       "      <th>open</th>\n",
       "      <th>close</th>\n",
       "      <th>low</th>\n",
       "      <th>high</th>\n",
       "      <th>volume</th>\n",
       "    </tr>\n",
       "  </thead>\n",
       "  <tbody>\n",
       "    <tr>\n",
       "      <th>count</th>\n",
       "      <td>851264.000000</td>\n",
       "      <td>851264.000000</td>\n",
       "      <td>851264.000000</td>\n",
       "      <td>851264.000000</td>\n",
       "      <td>8.512640e+05</td>\n",
       "    </tr>\n",
       "    <tr>\n",
       "      <th>mean</th>\n",
       "      <td>64.993618</td>\n",
       "      <td>65.011913</td>\n",
       "      <td>64.336541</td>\n",
       "      <td>65.639748</td>\n",
       "      <td>5.415113e+06</td>\n",
       "    </tr>\n",
       "    <tr>\n",
       "      <th>std</th>\n",
       "      <td>75.203893</td>\n",
       "      <td>75.201216</td>\n",
       "      <td>74.459518</td>\n",
       "      <td>75.906861</td>\n",
       "      <td>1.249468e+07</td>\n",
       "    </tr>\n",
       "    <tr>\n",
       "      <th>min</th>\n",
       "      <td>1.660000</td>\n",
       "      <td>1.590000</td>\n",
       "      <td>1.500000</td>\n",
       "      <td>1.810000</td>\n",
       "      <td>0.000000e+00</td>\n",
       "    </tr>\n",
       "    <tr>\n",
       "      <th>25%</th>\n",
       "      <td>31.270000</td>\n",
       "      <td>31.292776</td>\n",
       "      <td>30.940001</td>\n",
       "      <td>31.620001</td>\n",
       "      <td>1.221500e+06</td>\n",
       "    </tr>\n",
       "    <tr>\n",
       "      <th>50%</th>\n",
       "      <td>48.459999</td>\n",
       "      <td>48.480000</td>\n",
       "      <td>47.970001</td>\n",
       "      <td>48.959999</td>\n",
       "      <td>2.476250e+06</td>\n",
       "    </tr>\n",
       "    <tr>\n",
       "      <th>75%</th>\n",
       "      <td>75.120003</td>\n",
       "      <td>75.139999</td>\n",
       "      <td>74.400002</td>\n",
       "      <td>75.849998</td>\n",
       "      <td>5.222500e+06</td>\n",
       "    </tr>\n",
       "    <tr>\n",
       "      <th>max</th>\n",
       "      <td>1584.439941</td>\n",
       "      <td>1578.130005</td>\n",
       "      <td>1549.939941</td>\n",
       "      <td>1600.930054</td>\n",
       "      <td>8.596434e+08</td>\n",
       "    </tr>\n",
       "  </tbody>\n",
       "</table>\n",
       "</div>"
      ],
      "text/plain": [
       "                open          close            low           high  \\\n",
       "count  851264.000000  851264.000000  851264.000000  851264.000000   \n",
       "mean       64.993618      65.011913      64.336541      65.639748   \n",
       "std        75.203893      75.201216      74.459518      75.906861   \n",
       "min         1.660000       1.590000       1.500000       1.810000   \n",
       "25%        31.270000      31.292776      30.940001      31.620001   \n",
       "50%        48.459999      48.480000      47.970001      48.959999   \n",
       "75%        75.120003      75.139999      74.400002      75.849998   \n",
       "max      1584.439941    1578.130005    1549.939941    1600.930054   \n",
       "\n",
       "             volume  \n",
       "count  8.512640e+05  \n",
       "mean   5.415113e+06  \n",
       "std    1.249468e+07  \n",
       "min    0.000000e+00  \n",
       "25%    1.221500e+06  \n",
       "50%    2.476250e+06  \n",
       "75%    5.222500e+06  \n",
       "max    8.596434e+08  "
      ]
     },
     "execution_count": 4,
     "metadata": {},
     "output_type": "execute_result"
    }
   ],
   "source": [
    "df.describe()"
   ]
  },
  {
   "cell_type": "code",
   "execution_count": 5,
   "metadata": {},
   "outputs": [
    {
     "name": "stdout",
     "output_type": "stream",
     "text": [
      "<class 'pandas.core.frame.DataFrame'>\n",
      "Index: 851264 entries, 2016-01-05 to 2016-12-30\n",
      "Data columns (total 6 columns):\n",
      "symbol    851264 non-null object\n",
      "open      851264 non-null float64\n",
      "close     851264 non-null float64\n",
      "low       851264 non-null float64\n",
      "high      851264 non-null float64\n",
      "volume    851264 non-null float64\n",
      "dtypes: float64(5), object(1)\n",
      "memory usage: 45.5+ MB\n"
     ]
    }
   ],
   "source": [
    "df.info()"
   ]
  },
  {
   "cell_type": "code",
   "execution_count": 6,
   "metadata": {},
   "outputs": [
    {
     "data": {
      "image/png": "[encoded data removed]",
      "text/plain": [
       "<Figure size 1080x360 with 2 Axes>"
      ]
     },
     "metadata": {
      "needs_background": "light"
     },
     "output_type": "display_data"
    }
   ],
   "source": [
    "plt.figure(figsize=(15, 5));\n",
    "plt.subplot(1,2,1);\n",
    "plt.plot(df[df.symbol == 'EQIX'].open.values, color='red', label='open')\n",
    "plt.plot(df[df.symbol == 'EQIX'].close.values, color='green', label='close')\n",
    "plt.plot(df[df.symbol == 'EQIX'].low.values, color='blue', label='low')\n",
    "plt.plot(df[df.symbol == 'EQIX'].high.values, color='black', label='high')\n",
    "plt.title('stock price')\n",
    "plt.xlabel('time [days]')\n",
    "plt.ylabel('price')\n",
    "plt.legend(loc='best')\n",
    "#plt.show()\n",
    "\n",
    "plt.subplot(1,2,2);\n",
    "plt.plot(df[df.symbol == 'EQIX'].volume.values, color='black', label='volume')\n",
    "plt.title('stock volume')\n",
    "plt.xlabel('time [days]')\n",
    "plt.ylabel('volume')\n",
    "plt.legend(loc='best');"
   ]
  },
  {
   "cell_type": "markdown",
   "metadata": {},
   "source": [
    "# 3. Manipulate data <a class=\"anchor\" id=\"3-bullet\"></a> \n",
    "- choose a specific stock\n",
    "- drop feature: volume\n",
    "- normalize stock data\n",
    "- create train, validation and test data sets"
   ]
  },
  {
   "cell_type": "code",
   "execution_count": 7,
   "metadata": {},
   "outputs": [
    {
     "name": "stdout",
     "output_type": "stream",
     "text": [
      "df_stock.columns.values =  ['open', 'close', 'low', 'high']\n",
      "x_train.shape =  (1394, 19, 4)\n",
      "y_train.shape =  (1394, 4)\n",
      "x_valid.shape =  (174, 19, 4)\n",
      "y_valid.shape =  (174, 4)\n",
      "x_test.shape =  (174, 19, 4)\n",
      "y_test.shape =  (174, 4)\n"
     ]
    },
    {
     "name": "stderr",
     "output_type": "stream",
     "text": [
      "/home/nagata/anaconda3/envs/tensor_flow/lib/python3.7/site-packages/ipykernel_launcher.py:12: FutureWarning: Method .as_matrix will be removed in a future version. Use .values instead.\n",
      "  if sys.path[0] == '':\n"
     ]
    }
   ],
   "source": [
    "# function for min-max normalization of stock\n",
    "def normalize_data(df):\n",
    "    min_max_scaler = sklearn.preprocessing.MinMaxScaler()\n",
    "    df['open'] = min_max_scaler.fit_transform(df.open.values.reshape(-1,1))\n",
    "    df['high'] = min_max_scaler.fit_transform(df.high.values.reshape(-1,1))\n",
    "    df['low'] = min_max_scaler.fit_transform(df.low.values.reshape(-1,1))\n",
    "    df['close'] = min_max_scaler.fit_transform(df['close'].values.reshape(-1,1))\n",
    "    return df\n",
    "\n",
    "# function to create train, validation, test data given stock data and sequence length\n",
    "def load_data(stock, seq_len):\n",
    "    data_raw = stock.as_matrix() # convert to numpy array\n",
    "    data = []\n",
    "    \n",
    "    # create all possible sequences of length seq_len\n",
    "    for index in range(len(data_raw) - seq_len): \n",
    "        data.append(data_raw[index: index + seq_len])\n",
    "    \n",
    "    data = np.array(data);\n",
    "    valid_set_size = int(np.round(valid_set_size_percentage/100*data.shape[0]));  \n",
    "    test_set_size = int(np.round(test_set_size_percentage/100*data.shape[0]));\n",
    "    train_set_size = data.shape[0] - (valid_set_size + test_set_size);\n",
    "    \n",
    "    x_train = data[:train_set_size,:-1,:]\n",
    "    y_train = data[:train_set_size,-1,:]\n",
    "    \n",
    "    x_valid = data[train_set_size:train_set_size+valid_set_size,:-1,:]\n",
    "    y_valid = data[train_set_size:train_set_size+valid_set_size,-1,:]\n",
    "    \n",
    "    x_test = data[train_set_size+valid_set_size:,:-1,:]\n",
    "    y_test = data[train_set_size+valid_set_size:,-1,:]\n",
    "    \n",
    "    return [x_train, y_train, x_valid, y_valid, x_test, y_test]\n",
    "\n",
    "# choose one stock\n",
    "df_stock = df[df.symbol == 'EQIX'].copy()\n",
    "df_stock.drop(['symbol'],1,inplace=True)\n",
    "df_stock.drop(['volume'],1,inplace=True)\n",
    "\n",
    "cols = list(df_stock.columns.values)\n",
    "print('df_stock.columns.values = ', cols)\n",
    "\n",
    "# normalize stock\n",
    "df_stock_norm = df_stock.copy()\n",
    "df_stock_norm = normalize_data(df_stock_norm)\n",
    "\n",
    "# create train, test data\n",
    "seq_len = 20 # choose sequence length\n",
    "x_train, y_train, x_valid, y_valid, x_test, y_test = load_data(df_stock_norm, seq_len)\n",
    "print('x_train.shape = ',x_train.shape)\n",
    "print('y_train.shape = ', y_train.shape)\n",
    "print('x_valid.shape = ',x_valid.shape)\n",
    "print('y_valid.shape = ', y_valid.shape)\n",
    "print('x_test.shape = ', x_test.shape)\n",
    "print('y_test.shape = ',y_test.shape)\n"
   ]
  },
  {
   "cell_type": "code",
   "execution_count": 8,
   "metadata": {},
   "outputs": [
    {
     "data": {
      "image/png": "[encoded data removed]",
      "text/plain": [
       "<Figure size 1080x360 with 1 Axes>"
      ]
     },
     "metadata": {
      "needs_background": "light"
     },
     "output_type": "display_data"
    }
   ],
   "source": [
    "plt.figure(figsize=(15, 5));\n",
    "plt.plot(df_stock_norm.open.values, color='red', label='open')\n",
    "plt.plot(df_stock_norm.close.values, color='green', label='low')\n",
    "plt.plot(df_stock_norm.low.values, color='blue', label='low')\n",
    "plt.plot(df_stock_norm.high.values, color='black', label='high')\n",
    "#plt.plot(df_stock_norm.volume.values, color='gray', label='volume')\n",
    "plt.title('stock')\n",
    "plt.xlabel('time [days]')\n",
    "plt.ylabel('normalized price/volume')\n",
    "plt.legend(loc='best')\n",
    "plt.show()"
   ]
  },
  {
   "cell_type": "markdown",
   "metadata": {},
   "source": [
    "# 4. Model and validate data <a class=\"anchor\" id=\"4-bullet\"></a> \n",
    "- RNNs with basic, LSTM, GRU cells\n"
   ]
  },
  {
   "cell_type": "code",
   "execution_count": 9,
   "metadata": {},
   "outputs": [
    {
     "name": "stdout",
     "output_type": "stream",
     "text": [
      "\n",
      "WARNING: The TensorFlow contrib module will not be included in TensorFlow 2.0.\n",
      "For more information, please see:\n",
      "  * https://github.com/tensorflow/community/blob/master/rfcs/20180907-contrib-sunset.md\n",
      "  * https://github.com/tensorflow/addons\n",
      "If you depend on functionality not listed there, please file an issue.\n",
      "\n",
      "WARNING:tensorflow:From <ipython-input-9-0af9b4504091>:53: GRUCell.__init__ (from tensorflow.python.ops.rnn_cell_impl) is deprecated and will be removed in a future version.\n",
      "Instructions for updating:\n",
      "This class is equivalent as tf.keras.layers.GRUCell, and will be replaced by that in Tensorflow 2.0.\n",
      "WARNING:tensorflow:From <ipython-input-9-0af9b4504091>:55: MultiRNNCell.__init__ (from tensorflow.python.ops.rnn_cell_impl) is deprecated and will be removed in a future version.\n",
      "Instructions for updating:\n",
      "This class is equivalent as tf.keras.layers.StackedRNNCells, and will be replaced by that in Tensorflow 2.0.\n",
      "WARNING:tensorflow:From <ipython-input-9-0af9b4504091>:56: dynamic_rnn (from tensorflow.python.ops.rnn) is deprecated and will be removed in a future version.\n",
      "Instructions for updating:\n",
      "Please use `keras.layers.RNN(cell)`, which is equivalent to this API\n",
      "WARNING:tensorflow:From /home/nagata/anaconda3/envs/tensor_flow/lib/python3.7/site-packages/tensorflow/python/ops/tensor_array_ops.py:162: colocate_with (from tensorflow.python.framework.ops) is deprecated and will be removed in a future version.\n",
      "Instructions for updating:\n",
      "Colocations handled automatically by placer.\n",
      "WARNING:tensorflow:From <ipython-input-9-0af9b4504091>:59: dense (from tensorflow.python.layers.core) is deprecated and will be removed in a future version.\n",
      "Instructions for updating:\n",
      "Use keras.layers.dense instead.\n",
      "0.00 epochs: MSE train/valid = 0.074341/0.343956\n",
      "4.99 epochs: MSE train/valid = 0.000320/0.000982\n",
      "9.97 epochs: MSE train/valid = 0.000262/0.000844\n",
      "14.96 epochs: MSE train/valid = 0.000190/0.000671\n",
      "19.94 epochs: MSE train/valid = 0.000222/0.000750\n",
      "24.93 epochs: MSE train/valid = 0.000113/0.000281\n",
      "29.91 epochs: MSE train/valid = 0.000099/0.000272\n",
      "34.90 epochs: MSE train/valid = 0.000082/0.000239\n",
      "39.89 epochs: MSE train/valid = 0.000084/0.000228\n",
      "44.87 epochs: MSE train/valid = 0.000069/0.000204\n",
      "49.86 epochs: MSE train/valid = 0.000080/0.000258\n",
      "54.84 epochs: MSE train/valid = 0.000066/0.000203\n",
      "59.83 epochs: MSE train/valid = 0.000073/0.000197\n",
      "64.81 epochs: MSE train/valid = 0.000063/0.000203\n",
      "69.80 epochs: MSE train/valid = 0.000076/0.000248\n",
      "74.78 epochs: MSE train/valid = 0.000067/0.000244\n",
      "79.77 epochs: MSE train/valid = 0.000093/0.000291\n",
      "84.76 epochs: MSE train/valid = 0.000063/0.000210\n",
      "89.74 epochs: MSE train/valid = 0.000069/0.000225\n",
      "94.73 epochs: MSE train/valid = 0.000068/0.000181\n",
      "99.71 epochs: MSE train/valid = 0.000077/0.000251\n"
     ]
    }
   ],
   "source": [
    "## Basic Cell RNN in tensorflow\n",
    "\n",
    "index_in_epoch = 0;\n",
    "perm_array  = np.arange(x_train.shape[0])\n",
    "np.random.shuffle(perm_array)\n",
    "\n",
    "# function to get the next batch\n",
    "def get_next_batch(batch_size):\n",
    "    global index_in_epoch, x_train, perm_array   \n",
    "    start = index_in_epoch\n",
    "    index_in_epoch += batch_size\n",
    "    \n",
    "    if index_in_epoch > x_train.shape[0]:\n",
    "        np.random.shuffle(perm_array) # shuffle permutation array\n",
    "        start = 0 # start next epoch\n",
    "        index_in_epoch = batch_size\n",
    "        \n",
    "    end = index_in_epoch\n",
    "    return x_train[perm_array[start:end]], y_train[perm_array[start:end]]\n",
    "\n",
    "# parameters\n",
    "n_steps = seq_len-1 \n",
    "n_inputs = 4 \n",
    "n_neurons = 200 \n",
    "n_outputs = 4\n",
    "n_layers = 2\n",
    "learning_rate = 0.001\n",
    "batch_size = 50\n",
    "n_epochs = 100 \n",
    "train_set_size = x_train.shape[0]\n",
    "test_set_size = x_test.shape[0]\n",
    "\n",
    "tf.reset_default_graph()\n",
    "\n",
    "X = tf.placeholder(tf.float32, [None, n_steps, n_inputs])\n",
    "y = tf.placeholder(tf.float32, [None, n_outputs])\n",
    "\n",
    "# use Basic RNN Cell\n",
    "#layers = [tf.contrib.rnn.BasicRNNCell(num_units=n_neurons, activation=tf.nn.elu)\n",
    "#          for layer in range(n_layers)]\n",
    "\n",
    "# use Basic LSTM Cell \n",
    "#layers = [tf.contrib.rnn.BasicLSTMCell(num_units=n_neurons, activation=tf.nn.elu)\n",
    "#          for layer in range(n_layers)]\n",
    "\n",
    "# use LSTM Cell with peephole connections\n",
    "#layers = [tf.contrib.rnn.LSTMCell(num_units=n_neurons, \n",
    "#                                  activation=tf.nn.leaky_relu, use_peepholes = True)\n",
    "#          for layer in range(n_layers)]\n",
    "\n",
    "# use GRU cell\n",
    "layers = [tf.contrib.rnn.GRUCell(num_units=n_neurons, activation=tf.nn.leaky_relu)\n",
    "          for layer in range(n_layers)]\n",
    "                                                                     \n",
    "multi_layer_cell = tf.contrib.rnn.MultiRNNCell(layers)\n",
    "rnn_outputs, states = tf.nn.dynamic_rnn(multi_layer_cell, X, dtype=tf.float32)\n",
    "\n",
    "stacked_rnn_outputs = tf.reshape(rnn_outputs, [-1, n_neurons]) \n",
    "stacked_outputs = tf.layers.dense(stacked_rnn_outputs, n_outputs)\n",
    "outputs = tf.reshape(stacked_outputs, [-1, n_steps, n_outputs])\n",
    "outputs = outputs[:,n_steps-1,:] # keep only last output of sequence\n",
    "                                              \n",
    "loss = tf.reduce_mean(tf.square(outputs - y)) # loss function = mean squared error \n",
    "optimizer = tf.train.AdamOptimizer(learning_rate=learning_rate) \n",
    "training_op = optimizer.minimize(loss)\n",
    "                                              \n",
    "# run graph\n",
    "with tf.Session() as sess: \n",
    "    sess.run(tf.global_variables_initializer())\n",
    "    for iteration in range(int(n_epochs*train_set_size/batch_size)):\n",
    "        x_batch, y_batch = get_next_batch(batch_size) # fetch the next training batch \n",
    "        sess.run(training_op, feed_dict={X: x_batch, y: y_batch}) \n",
    "        if iteration % int(5*train_set_size/batch_size) == 0:\n",
    "            mse_train = loss.eval(feed_dict={X: x_train, y: y_train}) \n",
    "            mse_valid = loss.eval(feed_dict={X: x_valid, y: y_valid}) \n",
    "            print('%.2f epochs: MSE train/valid = %.6f/%.6f'%(\n",
    "                iteration*batch_size/train_set_size, mse_train, mse_valid))\n",
    "\n",
    "    y_train_pred = sess.run(outputs, feed_dict={X: x_train})\n",
    "    y_valid_pred = sess.run(outputs, feed_dict={X: x_valid})\n",
    "    y_test_pred = sess.run(outputs, feed_dict={X: x_test})\n",
    "    "
   ]
  },
  {
   "cell_type": "markdown",
   "metadata": {},
   "source": [
    "# 5. Predictions <a class=\"anchor\" id=\"5-bullet\"></a> "
   ]
  },
  {
   "cell_type": "code",
   "execution_count": 10,
   "metadata": {},
   "outputs": [
    {
     "data": {
      "text/plain": [
       "(1394, 4)"
      ]
     },
     "execution_count": 10,
     "metadata": {},
     "output_type": "execute_result"
    }
   ],
   "source": [
    "y_train.shape"
   ]
  },
  {
   "cell_type": "code",
   "execution_count": 11,
   "metadata": {},
   "outputs": [
    {
     "name": "stdout",
     "output_type": "stream",
     "text": [
      "correct sign prediction for close - open price for train/valid/test: 0.70/0.37/0.39\n"
     ]
    },
    {
     "data": {
      "image/png": "[encoded data removed]",
      "text/plain": [
       "<Figure size 1080x360 with 2 Axes>"
      ]
     },
     "metadata": {
      "needs_background": "light"
     },
     "output_type": "display_data"
    }
   ],
   "source": [
    "ft = 0 # 0 = open, 1 = close, 2 = highest, 3 = lowest\n",
    "\n",
    "## show predictions\n",
    "plt.figure(figsize=(15, 5));\n",
    "plt.subplot(1,2,1);\n",
    "\n",
    "plt.plot(np.arange(y_train.shape[0]), y_train[:,ft], color='blue', label='train target')\n",
    "\n",
    "plt.plot(np.arange(y_train.shape[0], y_train.shape[0]+y_valid.shape[0]), y_valid[:,ft],\n",
    "         color='gray', label='valid target')\n",
    "\n",
    "plt.plot(np.arange(y_train.shape[0]+y_valid.shape[0],\n",
    "                   y_train.shape[0]+y_test.shape[0]+y_test.shape[0]),\n",
    "         y_test[:,ft], color='black', label='test target')\n",
    "\n",
    "plt.plot(np.arange(y_train_pred.shape[0]),y_train_pred[:,ft], color='red',\n",
    "         label='train prediction')\n",
    "\n",
    "plt.plot(np.arange(y_train_pred.shape[0], y_train_pred.shape[0]+y_valid_pred.shape[0]),\n",
    "         y_valid_pred[:,ft], color='orange', label='valid prediction')\n",
    "\n",
    "plt.plot(np.arange(y_train_pred.shape[0]+y_valid_pred.shape[0],\n",
    "                   y_train_pred.shape[0]+y_valid_pred.shape[0]+y_test_pred.shape[0]),\n",
    "         y_test_pred[:,ft], color='green', label='test prediction')\n",
    "\n",
    "plt.title('past and future stock prices')\n",
    "plt.xlabel('time [days]')\n",
    "plt.ylabel('normalized price')\n",
    "plt.legend(loc='best');\n",
    "\n",
    "plt.subplot(1,2,2);\n",
    "\n",
    "plt.plot(np.arange(y_train.shape[0], y_train.shape[0]+y_test.shape[0]),\n",
    "         y_test[:,ft], color='black', label='test target')\n",
    "\n",
    "plt.plot(np.arange(y_train_pred.shape[0], y_train_pred.shape[0]+y_test_pred.shape[0]),\n",
    "         y_test_pred[:,ft], color='green', label='test prediction')\n",
    "\n",
    "plt.title('future stock prices')\n",
    "plt.xlabel('time [days]')\n",
    "plt.ylabel('normalized price')\n",
    "plt.legend(loc='best');\n",
    "\n",
    "corr_price_development_train = np.sum(np.equal(np.sign(y_train[:,1]-y_train[:,0]),\n",
    "            np.sign(y_train_pred[:,1]-y_train_pred[:,0])).astype(int)) / y_train.shape[0]\n",
    "corr_price_development_valid = np.sum(np.equal(np.sign(y_valid[:,1]-y_valid[:,0]),\n",
    "            np.sign(y_valid_pred[:,1]-y_valid_pred[:,0])).astype(int)) / y_valid.shape[0]\n",
    "corr_price_development_test = np.sum(np.equal(np.sign(y_test[:,1]-y_test[:,0]),\n",
    "            np.sign(y_test_pred[:,1]-y_test_pred[:,0])).astype(int)) / y_test.shape[0]\n",
    "\n",
    "print('correct sign prediction for close - open price for train/valid/test: %.2f/%.2f/%.2f'%(\n",
    "    corr_price_development_train, corr_price_development_valid, corr_price_development_test))\n"
   ]
  }
 ],
 "metadata": {
  "kernelspec": {
   "display_name": "Python 3",
   "language": "python",
   "name": "python3"
  },
  "language_info": {
   "codemirror_mode": {
    "name": "ipython",
    "version": 3
   },
   "file_extension": ".py",
   "mimetype": "text/x-python",
   "name": "python",
   "nbconvert_exporter": "python",
   "pygments_lexer": "ipython3",
   "version": "3.7.3"
  }
 },
 "nbformat": 4,
 "nbformat_minor": 2
}
