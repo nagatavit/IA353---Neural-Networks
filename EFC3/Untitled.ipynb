{
 "cells": [
  {
   "cell_type": "code",
   "execution_count": null,
   "metadata": {
    "scrolled": false
   },
   "outputs": [
    {
     "name": "stderr",
     "output_type": "stream",
     "text": [
      "WARNING: Logging before flag parsing goes to stderr.\n",
      "W0628 08:02:04.797621 140420166485824 deprecation_wrapper.py:119] From /home/nagata/anaconda3/envs/tensor_flow/lib/python3.7/site-packages/keras/backend/tensorflow_backend.py:517: The name tf.placeholder is deprecated. Please use tf.compat.v1.placeholder instead.\n",
      "\n",
      "W0628 08:02:04.800225 140420166485824 deprecation_wrapper.py:119] From /home/nagata/anaconda3/envs/tensor_flow/lib/python3.7/site-packages/keras/backend/tensorflow_backend.py:4138: The name tf.random_uniform is deprecated. Please use tf.random.uniform instead.\n",
      "\n",
      "W0628 08:02:04.893483 140420166485824 deprecation_wrapper.py:119] From /home/nagata/anaconda3/envs/tensor_flow/lib/python3.7/site-packages/keras/backend/tensorflow_backend.py:174: The name tf.get_default_session is deprecated. Please use tf.compat.v1.get_default_session instead.\n",
      "\n",
      "W0628 08:02:04.894297 140420166485824 deprecation_wrapper.py:119] From /home/nagata/anaconda3/envs/tensor_flow/lib/python3.7/site-packages/keras/backend/tensorflow_backend.py:181: The name tf.ConfigProto is deprecated. Please use tf.compat.v1.ConfigProto instead.\n",
      "\n",
      "W0628 08:02:04.895445 140420166485824 deprecation_wrapper.py:119] From /home/nagata/anaconda3/envs/tensor_flow/lib/python3.7/site-packages/keras/backend/tensorflow_backend.py:186: The name tf.Session is deprecated. Please use tf.compat.v1.Session instead.\n",
      "\n",
      "W0628 08:02:06.990329 140420166485824 deprecation_wrapper.py:119] From /home/nagata/anaconda3/envs/tensor_flow/lib/python3.7/site-packages/keras/optimizers.py:790: The name tf.train.Optimizer is deprecated. Please use tf.compat.v1.train.Optimizer instead.\n",
      "\n"
     ]
    },
    {
     "name": "stdout",
     "output_type": "stream",
     "text": [
      "8,842 texts collected.\n",
      "Training new model w/ 2-layer, 128-cell LSTMs\n"
     ]
    },
    {
     "name": "stderr",
     "output_type": "stream",
     "text": [
      "W0628 08:02:07.844727 140420166485824 deprecation.py:323] From /home/nagata/anaconda3/envs/tensor_flow/lib/python3.7/site-packages/tensorflow/python/ops/math_grad.py:1250: add_dispatch_support.<locals>.wrapper (from tensorflow.python.ops.array_ops) is deprecated and will be removed in a future version.\n",
      "Instructions for updating:\n",
      "Use tf.where in 2.0, which has the same broadcast rule as np.where\n"
     ]
    },
    {
     "name": "stdout",
     "output_type": "stream",
     "text": [
      "Training on 93,268 word sequences.\n",
      "Epoch 1/20\n",
      "728/728 [==============================] - 202s 277ms/step - loss: 6.2577\n",
      "Epoch 2/20\n",
      "728/728 [==============================] - 200s 275ms/step - loss: 6.0573\n",
      "Epoch 3/20\n",
      "728/728 [==============================] - 199s 273ms/step - loss: 5.9529\n",
      "Epoch 4/20\n",
      "728/728 [==============================] - 199s 274ms/step - loss: 5.6747\n",
      "Epoch 5/20\n",
      "728/728 [==============================] - 200s 275ms/step - loss: 5.1495\n",
      "Epoch 6/20\n",
      "528/728 [====================>.........] - ETA: 2:52 - loss: 4.6191"
     ]
    }
   ],
   "source": [
    "from textgenrnn import textgenrnn\n",
    "\n",
    "textgen = textgenrnn()\n",
    "\n",
    "file_path = \"brazcubas.txt\"\n",
    "textgen.train_from_file(file_path, new_model=True, num_epochs=20,\n",
    " gen_epochs=10, word_level=True)\n",
    "textgen.reset()\n",
    "textgen.generate(interactive=True, top_n=5)\n",
    "textgen.save('brazcubas.hdf5')"
   ]
  }
 ],
 "metadata": {
  "kernelspec": {
   "display_name": "Python 3",
   "language": "python",
   "name": "python3"
  },
  "language_info": {
   "codemirror_mode": {
    "name": "ipython",
    "version": 3
   },
   "file_extension": ".py",
   "mimetype": "text/x-python",
   "name": "python",
   "nbconvert_exporter": "python",
   "pygments_lexer": "ipython3",
   "version": "3.7.3"
  }
 },
 "nbformat": 4,
 "nbformat_minor": 2
}
